{
 "cells": [
  {
   "cell_type": "code",
   "execution_count": 10,
   "metadata": {},
   "outputs": [],
   "source": [
    "from bs4 import BeautifulSoup\n",
    "import csv\n",
    "import pandas as pd\n",
    "import requests\n",
    "import smtplib\n",
    "import time\n",
    "import datetime"
   ]
  },
  {
   "cell_type": "code",
   "execution_count": 11,
   "metadata": {},
   "outputs": [],
   "source": [
    "URL = 'https://www.amazon.com/Data-Analyst-Definition-Analysis-Distressed/dp/B0C1THH2KF/ref=sr_1_2?dib=eyJ2IjoiMSJ9.H_xD2LC8KXJb_HUr4wTcfXoE8KxzHlWEFJD26DN4qCY9Xg-IzMGnys93_FcapDMZJvHVPbNZwhcKR7SGVAfXCarX_InBqeDIp22O87EuR53FkEuWiNJrA-Mn_-i3kbS3DJLO99gkyMsNh2uY0_e8Vd_TQHOMVQoWOMf4iBBLC2NDAvBudaCs-ipfuMY-mLaNQXpA7ulEsPjXKP5hh3q052pL6bTfx5bbcvsbTtilLev6L1pnwYgkO6xUcfei9GjBxeCRt6k4bwp11V2rwqfdlv9RjVk9eSw8UOUh0m0AmPk.dQ6DqlUpON-f4dUlc8My-Fzo1j1qqDjDSbiAF1_YQzM&dib_tag=se&keywords=data%2Banalyst%2Btshirt&qid=1724913942&sr=8-2'\n",
    "headers = {\n",
    "    \"User-Agent\": \"Mozilla/5.0 (Windows NT 10.0; Win64; x64; rv:129.0) Gecko/20100101 Firefox/129.0\",\n",
    "    \"Accept-Encoding\":\"gzip, deflate, br, zstd\",\n",
    "    \"Accept\":\"html,application/xhtml+xml,application/xml;q=0.9,image/avif,image/webp,image/png,image/svg+xml,*/*;q=0.8\",\n",
    "    \"DNT\":\"1\",\n",
    "    \"Connection\":\"close\",\n",
    "    \"Upgrade-Insecure-Requests\":\"1\"\n",
    "    }"
   ]
  },
  {
   "cell_type": "code",
   "execution_count": 12,
   "metadata": {},
   "outputs": [
    {
     "name": "stdout",
     "output_type": "stream",
     "text": [
      "Data Analyst Definition Data Analysis Distressed T-Shirt\n",
      "17.99\n",
      "2024-08-29\n"
     ]
    }
   ],
   "source": [
    "page = requests.get(URL, headers=headers)\n",
    "\n",
    "soup1 = BeautifulSoup(page.content, \"html.parser\")\n",
    "soup1 = BeautifulSoup(soup1.prettify(), \"html.parser\")\n",
    "\n",
    "title = soup1.find(id='productTitle').get_text().strip()\n",
    "print(title)\n",
    "price = soup1.find('span', class_='a-offscreen').get_text().strip()\n",
    "price = price[1:]\n",
    "print(price)\n",
    "today = datetime.date.today()\n",
    "print(today)"
   ]
  },
  {
   "cell_type": "markdown",
   "metadata": {},
   "source": [
    "INSERTING INTO CSV"
   ]
  },
  {
   "cell_type": "code",
   "execution_count": 13,
   "metadata": {},
   "outputs": [],
   "source": [
    "header = ['Title', 'Price', 'Date']\n",
    "data = [title,price,today]\n",
    "with open('AmazonScraperDATASET.csv','w', newline='', encoding='UTF8') as f:\n",
    "    writer = csv.writer(f)\n",
    "    writer.writerow(header)\n",
    "    writer.writerow(data)"
   ]
  },
  {
   "cell_type": "markdown",
   "metadata": {},
   "source": [
    "CREATING PANDAS DF"
   ]
  },
  {
   "cell_type": "code",
   "execution_count": 14,
   "metadata": {},
   "outputs": [
    {
     "name": "stdout",
     "output_type": "stream",
     "text": [
      "                                               Title  Price        Date\n",
      "0  Data Analyst Definition Data Analysis Distress...  17.99  2024-08-29\n"
     ]
    }
   ],
   "source": [
    "df = pd.read_csv('AmazonScraperDATASET.csv')\n",
    "\n",
    "print(df)"
   ]
  },
  {
   "cell_type": "code",
   "execution_count": 15,
   "metadata": {},
   "outputs": [],
   "source": [
    "def check_price():\n",
    "    URL = 'https://www.amazon.com/Data-Analyst-Definition-Analysis-Distressed/dp/B0C1THH2KF/ref=sr_1_2?dib=eyJ2IjoiMSJ9.H_xD2LC8KXJb_HUr4wTcfXoE8KxzHlWEFJD26DN4qCY9Xg-IzMGnys93_FcapDMZJvHVPbNZwhcKR7SGVAfXCarX_InBqeDIp22O87EuR53FkEuWiNJrA-Mn_-i3kbS3DJLO99gkyMsNh2uY0_e8Vd_TQHOMVQoWOMf4iBBLC2NDAvBudaCs-ipfuMY-mLaNQXpA7ulEsPjXKP5hh3q052pL6bTfx5bbcvsbTtilLev6L1pnwYgkO6xUcfei9GjBxeCRt6k4bwp11V2rwqfdlv9RjVk9eSw8UOUh0m0AmPk.dQ6DqlUpON-f4dUlc8My-Fzo1j1qqDjDSbiAF1_YQzM&dib_tag=se&keywords=data%2Banalyst%2Btshirt&qid=1724913942&sr=8-2'\n",
    "    headers = {\n",
    "    \"User-Agent\": \"Mozilla/5.0 (Windows NT 10.0; Win64; x64; rv:129.0) Gecko/20100101 Firefox/129.0\",\n",
    "    \"Accept-Encoding\":\"gzip, deflate, br, zstd\",\n",
    "    \"Accept\":\"html,application/xhtml+xml,application/xml;q=0.9,image/avif,image/webp,image/png,image/svg+xml,*/*;q=0.8\",\n",
    "    \"DNT\":\"1\",\n",
    "    \"Connection\":\"close\",\n",
    "    \"Upgrade-Insecure-Requests\":\"1\"\n",
    "    }\n",
    "    page = requests.get(URL, headers=headers)\n",
    "\n",
    "    soup1 = BeautifulSoup(page.content, \"html.parser\")\n",
    "    soup1 = BeautifulSoup(soup1.prettify(), \"html.parser\")\n",
    "\n",
    "    title = soup1.find(id='productTitle').get_text().strip()\n",
    "\n",
    "    price = soup1.find('span', class_='a-offscreen').get_text().strip()\n",
    "    price = price[1:]\n",
    "\n",
    "    today = datetime.date.today()\n",
    "\n",
    "    data = [title, price, today]\n",
    "\n",
    "    with open('AmazonScraperDATASET.csv', 'a+', newline='', encoding='UTF8') as f:\n",
    "        writer = csv.writer(f)\n",
    "        writer.writerow(data)\n",
    "    \n",
    "    return price\n",
    " "
   ]
  },
  {
   "cell_type": "markdown",
   "metadata": {},
   "source": [
    "SEND MAIL EVENT FUNCTION"
   ]
  },
  {
   "cell_type": "code",
   "execution_count": 16,
   "metadata": {},
   "outputs": [],
   "source": [
    "def send_mail():\n",
    "    try:\n",
    "\n",
    "        server = smtplib.SMTP_SSL('smtp.gmail.com', 465)\n",
    "        server.ehlo()\n",
    "        \n",
    "        server.login('yourmail@gmail.com', 'yourpassword')\n",
    "        \n",
    "        subject = \"The Shirt you want is below $15! Now is your chance to buy!\"\n",
    "        body = f\"Link: {URL}\"\n",
    "        msg = f\"Subject: {subject}\\n\\n{body}\"\n",
    "        \n",
    "        server.sendmail('yourmail@gmail.com', 'recipient@example.com', msg)\n",
    "        \n",
    "        server.quit()\n",
    "        \n",
    "        print(\"Email sent successfully.\")\n",
    "    except Exception as e:\n",
    "        print(f\"Failed to send email: {e}\")"
   ]
  },
  {
   "cell_type": "markdown",
   "metadata": {},
   "source": [
    "GETTING PRICE TO COMPARE WITH TRIGGER PRICE"
   ]
  },
  {
   "cell_type": "code",
   "execution_count": 8,
   "metadata": {},
   "outputs": [],
   "source": [
    "def get_price(URL, headers):\n",
    "\n",
    "    page = requests.get(URL, headers=headers)\n",
    "    soup = BeautifulSoup(page.content, \"html.parser\")\n",
    "    \n",
    "\n",
    "    price_span = soup.find('span', class_='a-offscreen')\n",
    "    if price_span:\n",
    "        price_text = price_span.get_text().strip()\n",
    "        price = price_text[1:]\n",
    "        return float(price.replace(',', ''))"
   ]
  },
  {
   "cell_type": "markdown",
   "metadata": {},
   "source": [
    "SCRAPING MAIN PROCESS"
   ]
  },
  {
   "cell_type": "code",
   "execution_count": 13,
   "metadata": {},
   "outputs": [],
   "source": [
    "DAY = 86400\n",
    "while(True):\n",
    "    check_price()\n",
    "\n",
    "    price = get_price(URL, headers)\n",
    "\n",
    "    if get_price(URL, headers)>15:\n",
    "        send_mail()\n",
    "\n",
    "    time.sleep(DAY) #cheking price once a day"
   ]
  }
 ],
 "metadata": {
  "kernelspec": {
   "display_name": "Python 3",
   "language": "python",
   "name": "python3"
  },
  "language_info": {
   "codemirror_mode": {
    "name": "ipython",
    "version": 3
   },
   "file_extension": ".py",
   "mimetype": "text/x-python",
   "name": "python",
   "nbconvert_exporter": "python",
   "pygments_lexer": "ipython3",
   "version": "3.11.9"
  }
 },
 "nbformat": 4,
 "nbformat_minor": 2
}
